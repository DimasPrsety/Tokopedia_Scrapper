{
 "cells": [
  {
   "cell_type": "code",
   "execution_count": 2,
   "metadata": {},
   "outputs": [],
   "source": [
    "# Cobain dari youtube\n",
    "import time\n",
    "from selenium import webdriver\n",
    "from bs4 import BeautifulSoup\n",
    "import pandas as pd\n",
    "from selenium.webdriver.support.ui import WebDriverWait\n",
    "from selenium.webdriver.support import expected_conditions as EC\n",
    "from selenium.webdriver.common.by import By\n",
    "from selenium.webdriver.common.action_chains import ActionChains\n",
    "from selenium.webdriver.common.keys import Keys"
   ]
  },
  {
   "cell_type": "code",
   "execution_count": 19,
   "metadata": {},
   "outputs": [],
   "source": [
    "driver = webdriver.Chrome()\n",
    "\n",
    "# Open the Tokopedia URL\n",
    "url = 'https://www.tokopedia.com/search?st=&q=nugget%20ikan&srp_component_id=02.01.00.00&srp_page_id=&srp_page_title=&navsource='\n",
    "driver.get(url)\n",
    "\n",
    "data = []\n",
    "\n",
    "for i in range(200) : \n",
    "    WebDriverWait(driver, 5).until(EC.presence_of_all_elements_located((By.CSS_SELECTOR, \"#zeus-root\")))\n",
    "    time.sleep(2)\n",
    "    \n",
    "    for j in range (21): \n",
    "        driver.execute_script(\"window.scrollBy(0, 250)\")\n",
    "        time.sleep(1)\n",
    "\n",
    "    driver.execute_script(\"window.scrollBy(50, 0)\")\n",
    "    time.sleep(1)\n",
    "    \n",
    "    soup = BeautifulSoup(driver.page_source, \"html.parser\")\n",
    "    products = soup.find_all('div', class_=\"css-5wh65g\")\n",
    "\n",
    "    # Extract product information\n",
    "    for product in products:\n",
    "        # Extract product name\n",
    "        product_name_tag = product.find('span', class_='_0T8-iGxMpV6NEsYEhwkqEg==')\n",
    "        product_name = product_name_tag.text.strip() if product_name_tag else 'N/A'\n",
    "\n",
    "        # Extract price\n",
    "        price_tag = product.find('div', class_='_67d6E1xDKIzw+i2D2L0tjw==')\n",
    "        price = price_tag.text.strip() if price_tag else 'N/A'\n",
    "\n",
    "        # Extract shop name\n",
    "        shop_name_tag = product.find('span', class_='pC8DMVkBZGW7-egObcWMFQ== flip')\n",
    "        shop_name = shop_name_tag.text.strip() if shop_name_tag else 'N/A'\n",
    "\n",
    "        # Extract rating\n",
    "        rating_tag = product.find('span', class_='_9jWGz3C-GX7Myq-32zWG9w==')\n",
    "        rating = rating_tag.text.strip() if rating_tag else 'N/A'\n",
    "\n",
    "        # Extract number of items sold\n",
    "        sold_tag = product.find('span', class_='se8WAnkjbVXZNA8mT+Veuw==')\n",
    "        sold = sold_tag.text.strip() if sold_tag else 'N/A'\n",
    "\n",
    "        # Store the data in a set to avoid duplicates\n",
    "        data.append(\n",
    "            (product_name, price, shop_name, rating, sold)\n",
    "        )\n",
    "    \n",
    "    time.sleep(2)\n",
    "    driver.find_element(By.CSS_SELECTOR, \"button[aria-label='Laman berikutnya']\").click()\n",
    "    time.sleep(4)\n",
    "\n",
    "\n",
    "df = pd.DataFrame(data, columns = ['Product_name', 'price', 'shop_name', 'rating', 'sold'])\n",
    "\n",
    "driver.quit()"
   ]
  }
 ],
 "metadata": {
  "kernelspec": {
   "display_name": "3.6.15",
   "language": "python",
   "name": "python3"
  },
  "language_info": {
   "codemirror_mode": {
    "name": "ipython",
    "version": 3
   },
   "file_extension": ".py",
   "mimetype": "text/x-python",
   "name": "python",
   "nbconvert_exporter": "python",
   "pygments_lexer": "ipython3",
   "version": "3.12.5"
  }
 },
 "nbformat": 4,
 "nbformat_minor": 2
}
