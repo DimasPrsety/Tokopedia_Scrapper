{
 "cells": [
  {
   "cell_type": "code",
   "execution_count": 5,
   "metadata": {},
   "outputs": [],
   "source": [
    "# Cobain dari youtube\n",
    "import time\n",
    "from selenium import webdriver\n",
    "from bs4 import BeautifulSoup\n",
    "import pandas as pd\n",
    "from selenium.webdriver.support.ui import WebDriverWait\n",
    "from selenium.webdriver.support import expected_conditions as EC\n",
    "from selenium.webdriver.common.by import By\n",
    "from selenium.webdriver.common.action_chains import ActionChains\n",
    "from selenium.webdriver.common.keys import Keys"
   ]
  },
  {
   "cell_type": "code",
   "execution_count": 4,
   "metadata": {},
   "outputs": [
    {
     "name": "stdout",
     "output_type": "stream",
     "text": [
      "Requirement already satisfied: selenium in /Library/Frameworks/Python.framework/Versions/3.12/lib/python3.12/site-packages (4.26.1)\n",
      "Requirement already satisfied: urllib3<3,>=1.26 in /Users/efishery/Library/Python/3.12/lib/python/site-packages (from urllib3[socks]<3,>=1.26->selenium) (2.2.3)\n",
      "Requirement already satisfied: trio~=0.17 in /Library/Frameworks/Python.framework/Versions/3.12/lib/python3.12/site-packages (from selenium) (0.27.0)\n",
      "Requirement already satisfied: trio-websocket~=0.9 in /Library/Frameworks/Python.framework/Versions/3.12/lib/python3.12/site-packages (from selenium) (0.11.1)\n",
      "Requirement already satisfied: certifi>=2021.10.8 in /Users/efishery/Library/Python/3.12/lib/python/site-packages (from selenium) (2024.8.30)\n",
      "Requirement already satisfied: typing_extensions~=4.9 in /Users/efishery/Library/Python/3.12/lib/python/site-packages (from selenium) (4.12.2)\n",
      "Requirement already satisfied: websocket-client~=1.8 in /Library/Frameworks/Python.framework/Versions/3.12/lib/python3.12/site-packages (from selenium) (1.8.0)\n",
      "Requirement already satisfied: attrs>=23.2.0 in /Library/Frameworks/Python.framework/Versions/3.12/lib/python3.12/site-packages (from trio~=0.17->selenium) (24.2.0)\n",
      "Requirement already satisfied: sortedcontainers in /Library/Frameworks/Python.framework/Versions/3.12/lib/python3.12/site-packages (from trio~=0.17->selenium) (2.4.0)\n",
      "Requirement already satisfied: idna in /Users/efishery/Library/Python/3.12/lib/python/site-packages (from trio~=0.17->selenium) (3.10)\n",
      "Requirement already satisfied: outcome in /Library/Frameworks/Python.framework/Versions/3.12/lib/python3.12/site-packages (from trio~=0.17->selenium) (1.3.0.post0)\n",
      "Requirement already satisfied: sniffio>=1.3.0 in /Library/Frameworks/Python.framework/Versions/3.12/lib/python3.12/site-packages (from trio~=0.17->selenium) (1.3.1)\n",
      "Requirement already satisfied: wsproto>=0.14 in /Library/Frameworks/Python.framework/Versions/3.12/lib/python3.12/site-packages (from trio-websocket~=0.9->selenium) (1.2.0)\n",
      "Requirement already satisfied: pysocks!=1.5.7,<2.0,>=1.5.6 in /Library/Frameworks/Python.framework/Versions/3.12/lib/python3.12/site-packages (from urllib3[socks]<3,>=1.26->selenium) (1.7.1)\n",
      "Requirement already satisfied: h11<1,>=0.9.0 in /Library/Frameworks/Python.framework/Versions/3.12/lib/python3.12/site-packages (from wsproto>=0.14->trio-websocket~=0.9->selenium) (0.14.0)\n",
      "Note: you may need to restart the kernel to use updated packages.\n"
     ]
    }
   ],
   "source": [
    "pip install selenium"
   ]
  },
  {
   "cell_type": "code",
   "execution_count": 6,
   "metadata": {},
   "outputs": [
    {
     "name": "stdout",
     "output_type": "stream",
     "text": [
      "Last page reached. Exiting Loop\n"
     ]
    }
   ],
   "source": [
    "driver = webdriver.Chrome()\n",
    "\n",
    "# Open the Tokopedia URL\n",
    "url = 'https://www.tokopedia.com/search?st=&q=nugget%20ikan&srp_component_id=02.01.00.00&srp_page_id=&srp_page_title=&navsource='\n",
    "driver.get(url)\n",
    "\n",
    "# Preprocessing data and declaring variable\n",
    "data = []\n",
    "badge_mapping = {\n",
    "    \"https://images.tokopedia.net/img/official_store_badge.png\": \"official store\"\n",
    "    , \"https://images.tokopedia.net/img/goldmerchant/pm_activation/badge/PM%20Pro%20Small.png\": \"gold merchant\"\n",
    "    , \"https://images.tokopedia.net/img/power_merchant_badge.png\": \"power merchant\"\n",
    "}\n",
    "\n",
    "for i in range(30) : \n",
    "    WebDriverWait(driver, 5).until(EC.presence_of_all_elements_located((By.CSS_SELECTOR, \"#zeus-root\")))\n",
    "    time.sleep(2)\n",
    "    \n",
    "    for j in range (21): \n",
    "        driver.execute_script(\"window.scrollBy(0, 250)\")\n",
    "        time.sleep(1)\n",
    "\n",
    "    driver.execute_script(\"window.scrollBy(50, 0)\")\n",
    "    time.sleep(1)\n",
    "    \n",
    "    soup = BeautifulSoup(driver.page_source, \"html.parser\")\n",
    "    products = soup.find_all('div', class_=\"css-5wh65g\")\n",
    "\n",
    "    # Extract product information\n",
    "    for product in products:\n",
    "        # Extract product name\n",
    "        product_name_tag = product.find('span', class_='_0T8-iGxMpV6NEsYEhwkqEg==')\n",
    "        product_name = product_name_tag.text.strip() if product_name_tag else 'N/A'\n",
    "\n",
    "        # Extract price\n",
    "        price_tag = product.find('div', class_='_67d6E1xDKIzw+i2D2L0tjw==')\n",
    "        price = price_tag.text.strip() if price_tag else 'N/A'\n",
    "\n",
    "        # Extract Location\n",
    "        location_tag = product.find('span', class_='pC8DMVkBZGW7-egObcWMFQ== flip')\n",
    "        location = location_tag.text.strip() if location_tag else 'N/A'        \n",
    "        \n",
    "        # Extract shop name\n",
    "        shop_name_tag = product.find('span', class_='T0rpy-LEwYNQifsgB-3SQw== pC8DMVkBZGW7-egObcWMFQ== flip')\n",
    "        shop_name = shop_name_tag.text.strip() if shop_name_tag else 'N/A'\n",
    "\n",
    "        # Extract shop badge\n",
    "        shop_badge_tag = product.find('img', class_='YtXczlnkXDXQ59u3vhDxiA==')\n",
    "        shop_badge_src = shop_badge_tag['src'] if shop_badge_tag else None\n",
    "        shop_badge = badge_mapping.get(shop_badge_src, \"N/A\")\n",
    "\n",
    "        # Extract rating\n",
    "        rating_tag = product.find('span', class_='_9jWGz3C-GX7Myq-32zWG9w==')\n",
    "        rating = rating_tag.text.strip() if rating_tag else 'N/A'\n",
    "\n",
    "        # Extract number of items sold\n",
    "        sold_tag = product.find('span', class_='se8WAnkjbVXZNA8mT+Veuw==')\n",
    "        sold = sold_tag.text.strip() if sold_tag else 'N/A'\n",
    "\n",
    "        # Store the data in a set to avoid duplicates\n",
    "        data.append(\n",
    "            (product_name, price, location, shop_name, shop_badge, rating, sold)\n",
    "        )\n",
    "    \n",
    "    time.sleep(2)\n",
    "\n",
    "    # Check if \"Laman Berikutnya\" disabled \n",
    "    next_button = driver.find_element(By.CSS_SELECTOR, \"button[aria-label='Laman berikutnya']\")\n",
    "    if next_button.get_attribute(\"disabled\") : \n",
    "        print(\"Last page reached. Exiting Loop\")\n",
    "        break\n",
    "\n",
    "    driver.find_element(By.CSS_SELECTOR, \"button[aria-label='Laman berikutnya']\").click()\n",
    "    time.sleep(4)\n",
    "\n",
    "\n",
    "df = pd.DataFrame(data, columns = ['Product_name', 'price', 'location', 'shop_name', 'shop_badge', 'rating', 'sold'])\n",
    "\n",
    "driver.quit()"
   ]
  },
  {
   "cell_type": "code",
   "execution_count": 7,
   "metadata": {},
   "outputs": [],
   "source": [
    "df = pd.DataFrame(data, columns = ['Product_name', 'price', 'location', 'shop_name', 'shop_badge', 'rating', 'sold'])"
   ]
  },
  {
   "cell_type": "code",
   "execution_count": 8,
   "metadata": {},
   "outputs": [],
   "source": [
    "df.to_excel('tokopedia_all_products.xlsx')"
   ]
  },
  {
   "cell_type": "code",
   "execution_count": null,
   "metadata": {},
   "outputs": [],
   "source": []
  }
 ],
 "metadata": {
  "kernelspec": {
   "display_name": "3.6.15",
   "language": "python",
   "name": "python3"
  },
  "language_info": {
   "codemirror_mode": {
    "name": "ipython",
    "version": 3
   },
   "file_extension": ".py",
   "mimetype": "text/x-python",
   "name": "python",
   "nbconvert_exporter": "python",
   "pygments_lexer": "ipython3",
   "version": "3.12.5"
  }
 },
 "nbformat": 4,
 "nbformat_minor": 2
}
